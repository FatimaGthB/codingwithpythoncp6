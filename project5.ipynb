{
 "cells": [
  {
   "cell_type": "code",
   "execution_count": 64,
   "metadata": {},
   "outputs": [
    {
     "name": "stdout",
     "output_type": "stream",
     "text": [
      "        name  score  attemps qualify\n",
      "a  Anastasia   12.5        1     oui\n",
      "b       Dima    9.0        3     non\n",
      "c  Katherine   16.5        2     oui\n",
      "d      James    NaN        3     non\n",
      "e      Emily    9.0        2     non\n",
      "f    Michael   20.0        3     oui\n",
      "g    Matthew   14.5        1     oui\n",
      "h      Laura    NaN        1     non\n",
      "i      Kevin    8.0        2     non\n",
      "j      Jonas   19.0        1     oui\n"
     ]
    }
   ],
   "source": [
    "import pandas as pd\n",
    "import numpy as np\n",
    "\n",
    "exam_data = {'name' : ['Anastasia', 'Dima', 'Katherine', 'James', 'Emily', 'Michael', 'Matthew', 'Laura', 'Kevin', 'Jonas'],\n",
    "\n",
    "'score' : [12.5, 9, 16.5, np.nan, 9, 20, 14.5, np.nan, 8, 19],\n",
    "\n",
    "'attemps' : [1, 3, 2, 3, 2, 3, 1, 1, 2, 1],\n",
    "\n",
    "'qualify' : ['oui', 'non', 'oui', 'non', 'non', 'oui', 'oui', 'non', 'non', 'oui']}\n",
    "\n",
    "labels = ['a', 'b', 'c', 'd', 'e', 'f', 'g', 'h','i', 'j']\n",
    "\n",
    "my_dataFrame=pd.DataFrame(exam_data, index=labels)\n",
    "print(my_dataFrame)\n"
   ]
  },
  {
   "cell_type": "markdown",
   "metadata": {},
   "source": [
    "1/ Print the three first rows using the head() method."
   ]
  },
  {
   "cell_type": "code",
   "execution_count": 65,
   "metadata": {},
   "outputs": [
    {
     "name": "stdout",
     "output_type": "stream",
     "text": [
      "        name  score  attemps qualify\n",
      "a  Anastasia   12.5        1     oui\n",
      "b       Dima    9.0        3     non\n",
      "c  Katherine   16.5        2     oui\n"
     ]
    }
   ],
   "source": [
    "import pandas as pd\n",
    "import numpy as np\n",
    "\n",
    "exam_data = {'name' : ['Anastasia', 'Dima', 'Katherine', 'James', 'Emily', 'Michael', 'Matthew', 'Laura', 'Kevin', 'Jonas'],\n",
    "\n",
    "'score' : [12.5, 9, 16.5, np.nan, 9, 20, 14.5, np.nan, 8, 19],\n",
    "\n",
    "'attemps' : [1, 3, 2, 3, 2, 3, 1, 1, 2, 1],\n",
    "\n",
    "'qualify' : ['oui', 'non', 'oui', 'non', 'non', 'oui', 'oui', 'non', 'non', 'oui']}\n",
    "\n",
    "labels = ['a', 'b', 'c', 'd', 'e', 'f', 'g', 'h','i', 'j']\n",
    "\n",
    "my_dataFrame=pd.DataFrame(exam_data, index=labels)\n",
    "\n",
    "print(my_dataFrame.head(3))"
   ]
  },
  {
   "cell_type": "markdown",
   "metadata": {},
   "source": [
    "2/ Delete rows with Nan values."
   ]
  },
  {
   "cell_type": "code",
   "execution_count": 86,
   "metadata": {},
   "outputs": [
    {
     "name": "stdout",
     "output_type": "stream",
     "text": [
      "        name  score  attemps qualify\n",
      "a  Anastasia   12.5        1     oui\n",
      "b       Dima    9.0        3     non\n",
      "c  Katherine   16.5        2     oui\n",
      "e      Emily    9.0        2     non\n",
      "f    Michael   20.0        3     oui\n",
      "g    Matthew   14.5        1     oui\n",
      "i      Kevin    8.0        2     non\n",
      "j      Jonas   19.0        1     oui\n"
     ]
    }
   ],
   "source": [
    "import pandas as pd\n",
    "import numpy as np\n",
    "\n",
    "exam_data = {'name' : ['Anastasia', 'Dima', 'Katherine', 'James', 'Emily', 'Michael', 'Matthew', 'Laura', 'Kevin', 'Jonas'],\n",
    "\n",
    "'score' : [12.5, 9, 16.5, np.nan, 9, 20, 14.5, np.nan, 8, 19],\n",
    "\n",
    "'attemps' : [1, 3, 2, 3, 2, 3, 1, 1, 2, 1],\n",
    "\n",
    "'qualify' : ['oui', 'non', 'oui', 'non', 'non', 'oui', 'oui', 'non', 'non', 'oui']}\n",
    "\n",
    "labels = ['a', 'b', 'c', 'd', 'e', 'f', 'g', 'h','i', 'j']\n",
    "\n",
    "my_dataFrame=pd.DataFrame(exam_data, index=labels)\n",
    "\n",
    "#replace nan values with 0\n",
    "my_dataFrame['score'] = my_dataFrame['score'].replace(np.nan, 0)\n",
    "\n",
    "my_dataFrame.drop(my_dataFrame.loc[my_dataFrame[\"score\"] == 0].index, inplace=True)\n",
    "\n",
    "\n",
    "print(my_dataFrame)"
   ]
  },
  {
   "cell_type": "markdown",
   "metadata": {},
   "source": [
    "3/ Extract the 'name' and 'score' columns from the DataFrame.\n"
   ]
  },
  {
   "cell_type": "code",
   "execution_count": 89,
   "metadata": {},
   "outputs": [
    {
     "name": "stdout",
     "output_type": "stream",
     "text": [
      "        name  score\n",
      "a  Anastasia   12.5\n",
      "b       Dima    9.0\n",
      "c  Katherine   16.5\n",
      "e      Emily    9.0\n",
      "f    Michael   20.0\n",
      "g    Matthew   14.5\n",
      "i      Kevin    8.0\n",
      "j      Jonas   19.0\n"
     ]
    }
   ],
   "source": [
    "import pandas as pd\n",
    "import numpy as np\n",
    "\n",
    "exam_data = {'name' : ['Anastasia', 'Dima', 'Katherine', 'James', 'Emily', 'Michael', 'Matthew', 'Laura', 'Kevin', 'Jonas'],\n",
    "\n",
    "'score' : [12.5, 9, 16.5, np.nan, 9, 20, 14.5, np.nan, 8, 19],\n",
    "\n",
    "'attemps' : [1, 3, 2, 3, 2, 3, 1, 1, 2, 1],\n",
    "\n",
    "'qualify' : ['oui', 'non', 'oui', 'non', 'non', 'oui', 'oui', 'non', 'non', 'oui']}\n",
    "\n",
    "labels = ['a', 'b', 'c', 'd', 'e', 'f', 'g', 'h','i', 'j']\n",
    "\n",
    "my_dataFrame=pd.DataFrame(exam_data, index=labels)\n",
    "\n",
    "my_dataFrame['score'] = my_dataFrame['score'].replace(np.nan, 0)\n",
    "\n",
    "my_dataFrame.drop(my_dataFrame.loc[my_dataFrame[\"score\"] == 0].index, inplace=True)\n",
    "\n",
    "#extract the relevant columns by selecting the indexes\n",
    "my_dataFrame= my_dataFrame.iloc[:, 0:2]\n",
    "\n",
    "print(my_dataFrame)"
   ]
  },
  {
   "cell_type": "markdown",
   "metadata": {},
   "source": [
    "4/ a Pandas program to append a new row 'k' to the DataFrame with these values (name: \"Suresh\", score: 15.5, attempts: 1, qualify: \"yes\").\n"
   ]
  },
  {
   "cell_type": "code",
   "execution_count": 90,
   "metadata": {},
   "outputs": [
    {
     "name": "stdout",
     "output_type": "stream",
     "text": [
      "        name  score  attemps qualify\n",
      "a  Anastasia   12.5        1     oui\n",
      "b       Dima    9.0        3     non\n",
      "c  Katherine   16.5        2     oui\n",
      "e      Emily    9.0        2     non\n",
      "f    Michael   20.0        3     oui\n",
      "g    Matthew   14.5        1     oui\n",
      "i      Kevin    8.0        2     non\n",
      "j      Jonas   19.0        1     oui\n",
      "k     Suresh   15.5        1     oui\n"
     ]
    }
   ],
   "source": [
    "import pandas as pd\n",
    "import numpy as np\n",
    "\n",
    "exam_data = {'name' : ['Anastasia', 'Dima', 'Katherine', 'James', 'Emily', 'Michael', 'Matthew', 'Laura', 'Kevin', 'Jonas'],\n",
    "\n",
    "'score' : [12.5, 9, 16.5, np.nan, 9, 20, 14.5, np.nan, 8, 19],\n",
    "\n",
    "'attemps' : [1, 3, 2, 3, 2, 3, 1, 1, 2, 1],\n",
    "\n",
    "'qualify' : ['oui', 'non', 'oui', 'non', 'non', 'oui', 'oui', 'non', 'non', 'oui']}\n",
    "\n",
    "labels = ['a', 'b', 'c', 'd', 'e', 'f', 'g', 'h','i', 'j']\n",
    "\n",
    "my_dataFrame=pd.DataFrame(exam_data, index=labels)\n",
    "\n",
    "my_dataFrame['score'] = my_dataFrame['score'].replace(np.nan, 0)\n",
    "\n",
    "my_dataFrame.drop(my_dataFrame.loc[my_dataFrame[\"score\"] == 0].index, inplace=True)\n",
    "\n",
    "dic2 = {'label' : ['k'],'name' : ['Suresh'],\n",
    "    'score' : [15.5],\n",
    "    'attemps' : [1],\n",
    "    'qualify' : 'oui'}\n",
    "\n",
    "df2 = pd.DataFrame(dic2)\n",
    "\n",
    "df2 = df2.set_index('label')\n",
    "\n",
    "new_data = pd.concat([my_dataFrame,df2])\n",
    "print(new_data)\n"
   ]
  },
  {
   "cell_type": "markdown",
   "metadata": {},
   "source": [
    "5/ a Pandas program to delete the 'attempts' column from the DataFrame.\n"
   ]
  },
  {
   "cell_type": "code",
   "execution_count": 91,
   "metadata": {},
   "outputs": [
    {
     "name": "stdout",
     "output_type": "stream",
     "text": [
      "        name  score qualify\n",
      "a  Anastasia   12.5     oui\n",
      "b       Dima    9.0     non\n",
      "c  Katherine   16.5     oui\n",
      "e      Emily    9.0     non\n",
      "f    Michael   20.0     oui\n",
      "g    Matthew   14.5     oui\n",
      "i      Kevin    8.0     non\n",
      "j      Jonas   19.0     oui\n",
      "k     Suresh   15.5     oui\n"
     ]
    }
   ],
   "source": [
    "import pandas as pd\n",
    "import numpy as np\n",
    "\n",
    "exam_data = {'name' : ['Anastasia', 'Dima', 'Katherine', 'James', 'Emily', 'Michael', 'Matthew', 'Laura', 'Kevin', 'Jonas'],\n",
    "\n",
    "'score' : [12.5, 9, 16.5, np.nan, 9, 20, 14.5, np.nan, 8, 19],\n",
    "\n",
    "'attemps' : [1, 3, 2, 3, 2, 3, 1, 1, 2, 1],\n",
    "\n",
    "'qualify' : ['oui', 'non', 'oui', 'non', 'non', 'oui', 'oui', 'non', 'non', 'oui']}\n",
    "\n",
    "labels = ['a', 'b', 'c', 'd', 'e', 'f', 'g', 'h','i', 'j']\n",
    "my_dataFrame=pd.DataFrame(exam_data, index=labels)\n",
    "\n",
    "my_dataFrame['score'] = my_dataFrame['score'].replace(np.nan, 0)\n",
    "\n",
    "my_dataFrame.drop(my_dataFrame.loc[my_dataFrame[\"score\"] == 0].index, inplace=True)\n",
    "\n",
    "dic2 = {'label' : ['k'],'name' : ['Suresh'],\n",
    "    'score' : [15.5],\n",
    "    'attemps' : [1],\n",
    "    'qualify' : 'oui'}\n",
    "\n",
    "df2 = pd.DataFrame(dic2)\n",
    "\n",
    "df2 = df2.set_index('label')\n",
    "\n",
    "new_data = pd.concat([my_dataFrame,df2])\n",
    "\n",
    "new_data= new_data.drop(['attemps'], axis=1)\n",
    "\n",
    "print(new_data)"
   ]
  },
  {
   "cell_type": "markdown",
   "metadata": {},
   "source": [
    "6/ Add a new column \"Success\": if the score is higher than 10 we will have 1, else we will have 0.\n"
   ]
  },
  {
   "cell_type": "code",
   "execution_count": 92,
   "metadata": {},
   "outputs": [
    {
     "name": "stdout",
     "output_type": "stream",
     "text": [
      "        name  score qualify  Success\n",
      "a  Anastasia   12.5     oui        1\n",
      "b       Dima    9.0     non        0\n",
      "c  Katherine   16.5     oui        1\n",
      "e      Emily    9.0     non        0\n",
      "f    Michael   20.0     oui        1\n",
      "g    Matthew   14.5     oui        1\n",
      "i      Kevin    8.0     non        0\n",
      "j      Jonas   19.0     oui        1\n",
      "k     Suresh   15.5     oui        1\n"
     ]
    }
   ],
   "source": [
    "import pandas as pd\n",
    "import numpy as np\n",
    "\n",
    "exam_data = {'name' : ['Anastasia', 'Dima', 'Katherine', 'James', 'Emily', 'Michael', 'Matthew', 'Laura', 'Kevin', 'Jonas'],\n",
    "\n",
    "'score' : [12.5, 9, 16.5, np.nan, 9, 20, 14.5, np.nan, 8, 19],\n",
    "\n",
    "'attemps' : [1, 3, 2, 3, 2, 3, 1, 1, 2, 1],\n",
    "\n",
    "'qualify' : ['oui', 'non', 'oui', 'non', 'non', 'oui', 'oui', 'non', 'non', 'oui']}\n",
    "\n",
    "labels = ['a', 'b', 'c', 'd', 'e', 'f', 'g', 'h','i', 'j']\n",
    "\n",
    "my_dataFrame=pd.DataFrame(exam_data, index=labels)\n",
    "\n",
    "my_dataFrame['score'] = my_dataFrame['score'].replace(np.nan, 0)\n",
    "\n",
    "my_dataFrame.drop(my_dataFrame.loc[my_dataFrame[\"score\"] == 0].index, inplace=True)\n",
    "\n",
    "dic2 = {'label' : ['k'],'name' : ['Suresh'],\n",
    "    'score' : [15.5],\n",
    "    'attemps' : [1],\n",
    "    'qualify' : 'oui'}\n",
    "df2 = pd.DataFrame(dic2)\n",
    "\n",
    "df2 = df2.set_index('label')\n",
    "\n",
    "new_data = pd.concat([my_dataFrame,df2])\n",
    "\n",
    "new_data= new_data.drop(['attemps'], axis=1)\n",
    "\n",
    "new_data['Success']= np.where(new_data['score']> 10, 1,0)\n",
    "\n",
    "print(new_data)"
   ]
  },
  {
   "cell_type": "markdown",
   "metadata": {},
   "source": [
    "7/ export it into a CSV file named \"my_data\""
   ]
  },
  {
   "cell_type": "code",
   "execution_count": 94,
   "metadata": {},
   "outputs": [
    {
     "name": "stdout",
     "output_type": "stream",
     "text": [
      "  Unnamed: 0       name  score qualify  Success\n",
      "0          a  Anastasia   12.5     oui        1\n",
      "1          b       Dima    9.0     non        0\n",
      "2          c  Katherine   16.5     oui        1\n",
      "3          e      Emily    9.0     non        0\n",
      "4          f    Michael   20.0     oui        1\n",
      "5          g    Matthew   14.5     oui        1\n",
      "6          i      Kevin    8.0     non        0\n",
      "7          j      Jonas   19.0     oui        1\n",
      "8          k     Suresh   15.5     oui        1\n"
     ]
    }
   ],
   "source": [
    "import pandas as pd\n",
    "import numpy as np\n",
    "\n",
    "exam_data = {'name' : ['Anastasia', 'Dima', 'Katherine', 'James', 'Emily', 'Michael', 'Matthew', 'Laura', 'Kevin', 'Jonas'],\n",
    "\n",
    "'score' : [12.5, 9, 16.5, np.nan, 9, 20, 14.5, np.nan, 8, 19],\n",
    "\n",
    "'attemps' : [1, 3, 2, 3, 2, 3, 1, 1, 2, 1],\n",
    "\n",
    "'qualify' : ['oui', 'non', 'oui', 'non', 'non', 'oui', 'oui', 'non', 'non', 'oui']}\n",
    "\n",
    "labels = ['a', 'b', 'c', 'd', 'e', 'f', 'g', 'h','i', 'j']\n",
    "\n",
    "my_dataFrame=pd.DataFrame(exam_data, index=labels)\n",
    "\n",
    "my_dataFrame['score'] = my_dataFrame['score'].replace(np.nan, 0)\n",
    "\n",
    "my_dataFrame.drop(my_dataFrame.loc[my_dataFrame[\"score\"] == 0].index, inplace=True)\n",
    "\n",
    "dic2 = {'label' : ['k'],'name' : ['Suresh'],\n",
    "    'score' : [15.5],\n",
    "    'attemps' : [1],\n",
    "    'qualify' : 'oui'}\n",
    "df2 = pd.DataFrame(dic2)\n",
    "df2 = df2.set_index('label')\n",
    "new_data = pd.concat([my_dataFrame,df2])\n",
    "new_data= new_data.drop(['attemps'], axis=1)\n",
    "new_data['Success']= np.where(new_data['score']> 10, 1,0)\n",
    "\n",
    "new_data.to_csv('my_data')\n",
    "\n",
    "new_dataframe = pd.read_csv('my_data')\n",
    "\n",
    "new_dataframe.head()\n",
    "\n",
    "print(new_dataframe)"
   ]
  },
  {
   "cell_type": "code",
   "execution_count": 63,
   "metadata": {},
   "outputs": [
    {
     "name": "stdout",
     "output_type": "stream",
     "text": [
      "  Unnamed: 0       name  score qualify  Success\n",
      "0          a  Anastasia   12.5     oui        1\n",
      "1          b       Dima    9.0     non        0\n",
      "2          c  Katherine   16.5     oui        1\n",
      "3          e      Emily    9.0     non        0\n",
      "4          f    Michael   20.0     oui        1\n",
      "5          g    Matthew   14.5     oui        1\n",
      "6          i      Kevin    8.0     non        0\n",
      "7          j      Jonas   19.0     oui        1\n",
      "8          k     Suresh   15.5     oui        1\n"
     ]
    }
   ],
   "source": [
    "import pandas as pd\n",
    "df=pd.read_csv(\"my_data\")\n",
    "print(df)"
   ]
  }
 ],
 "metadata": {
  "kernelspec": {
   "display_name": "Python 3",
   "language": "python",
   "name": "python3"
  },
  "language_info": {
   "codemirror_mode": {
    "name": "ipython",
    "version": 3
   },
   "file_extension": ".py",
   "mimetype": "text/x-python",
   "name": "python",
   "nbconvert_exporter": "python",
   "pygments_lexer": "ipython3",
   "version": "3.11.4"
  }
 },
 "nbformat": 4,
 "nbformat_minor": 2
}
